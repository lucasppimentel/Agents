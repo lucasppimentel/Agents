{
 "cells": [
  {
   "cell_type": "code",
   "execution_count": 1,
   "id": "c3904d0e",
   "metadata": {},
   "outputs": [],
   "source": [
    "from langchain.vectorstores import Chroma\n",
    "from langchain_openai import OpenAIEmbeddings\n",
    "from langchain.document_loaders import PyPDFLoader\n",
    "from langchain.text_splitter import RecursiveCharacterTextSplitter\n",
    "\n",
    "from langchain_openai import ChatOpenAI\n",
    "from langchain.prompts import PromptTemplate\n",
    "from langchain.chains import LLMChain"
   ]
  },
  {
   "cell_type": "markdown",
   "id": "13d2cc99",
   "metadata": {},
   "source": [
    "# 01. Criando uma Vector Database Local (em disco)"
   ]
  },
  {
   "cell_type": "code",
   "execution_count": 2,
   "id": "dbbed17d",
   "metadata": {},
   "outputs": [],
   "source": [
    "path_ITR = \"03. Data/itr.pdf\"\n",
    "path_chroma_database = \"02. Databases/stage_chroma_db\""
   ]
  },
  {
   "cell_type": "code",
   "execution_count": 3,
   "id": "3c207d9b",
   "metadata": {},
   "outputs": [],
   "source": [
    "loader = PyPDFLoader(path_ITR)\n",
    "documents = loader.load()\n",
    "\n",
    "text_splitter = RecursiveCharacterTextSplitter(chunk_size=1000, chunk_overlap=200)\n",
    "chunks = text_splitter.split_documents(documents)"
   ]
  },
  {
   "cell_type": "code",
   "execution_count": 16,
   "id": "1748c240",
   "metadata": {},
   "outputs": [],
   "source": [
    "label_prompt = PromptTemplate(\n",
    "    input_variables=[\"text\"],\n",
    "    template=\"\"\"\n",
    "<Instrução>\n",
    "Classifique o chunk a seguir como uma das seguintes categorias:\n",
    "- Empresa e estrutura\n",
    "- Operações e mercado\n",
    "- Financeiro e contábil\n",
    "- Riscos e conformidade\n",
    "- ESG e sustentabilidade\n",
    "- Recursos humanos e administração\n",
    "- Relação com investidores e mercado de capitais\n",
    "<Instrução>\n",
    "\n",
    "\n",
    "<Exemplos>\n",
    "Chunk:  A Petrobras foi constituída pela União Federal, através da Lei nº 2.004, de 3 de outubro de 1953, sob forma de \n",
    "sociedade por ações, a fim de conduzir as atividades correlatas à indústria de petróleo e gás natural pelo governo \n",
    "brasileiro. A Companhia começou suas operações em 1954 e durante aproximadamente quarenta anos \n",
    "Output: Empresa e estrutura\n",
    "\n",
    "Chunk: A Petrobras também aumentará a capacidade de produção de Diesel S10 em 290 mil bpd em seu parque de refino, \n",
    "considerando os projetos da Carteira de Implantação. Além disso, contará com sua primeira unidade de lubrificantes Grupo II \n",
    "(mais modernos), com capacidade de 12 mil bpd até 2029. Com os projetos da Carteira de\n",
    "Output: Operações e mercado\n",
    "\n",
    "Chunk: As atividades relacionadas ao negócio de petróleo e gás apresentam riscos elevados, geralmente por envolverem \n",
    "altas temperaturas e pressões. Em particular, atividades em águas profundas e ultraprofundas, no refino e em \n",
    "petroquímica, realizadas pela Companhia, suas subsidiárias, ou empresas coligadas apresentam vários riscos, como \n",
    "vazamentos de óleo e produtos, colapsos, acidentes aeronáuticos, incêndios e ex\n",
    "Output: Riscos e conformidade\n",
    "<Exemplos>\n",
    "\n",
    "\n",
    "<Chunk>\n",
    "{text}\n",
    "<Chunk>\n",
    "\n",
    "Responda somente a categoria.\n",
    "Category:\"\"\"\n",
    ")\n",
    "\n",
    "llm = ChatOpenAI(model_name=\"gpt-4o-mini\", temperature=0)"
   ]
  },
  {
   "cell_type": "code",
   "execution_count": 17,
   "id": "9bba8eec",
   "metadata": {},
   "outputs": [
    {
     "name": "stdout",
     "output_type": "stream",
     "text": [
      "0 / 2533 ...Relação com investidores e mercado de capitais\n",
      "1 / 2533 ...Operações e mercado\n",
      "2 / 2533 ...Financeiro e contábil\n",
      "3 / 2533 ...Riscos e conformidade\n",
      "4 / 2533 ...Recursos humanos e administração\n",
      "5 / 2533 ...Recursos humanos e administração\n",
      "6 / 2533 ...Recursos humanos e administração\n",
      "7 / 2533 ...Relação com investidores e mercado de capitais\n",
      "8 / 2533 ...Relação com investidores e mercado de capitais\n",
      "9 / 2533 ...Empresa e estrutura\n",
      "10 / 2533 ...Operações e mercado\n"
     ]
    }
   ],
   "source": [
    "for i, chunk in enumerate(chunks):\n",
    "    if i>10: break\n",
    "    print(f\"{i} / {len(chunks)}\", end=\" ...\")\n",
    "    category = llm.invoke(label_prompt.invoke({\"text\":chunk.page_content}))\n",
    "    chunk.metadata[\"category\"] = category.content.strip()\n",
    "    print(category.content.strip())"
   ]
  },
  {
   "cell_type": "code",
   "execution_count": null,
   "id": "6313f6cc",
   "metadata": {},
   "outputs": [],
   "source": [
    "embedding = OpenAIEmbeddings()\n",
    "vectorstore = Chroma.from_documents(\n",
    "    documents=chunks,\n",
    "    embedding=embedding,\n",
    "    persist_directory=path_chroma_database,\n",
    "    collection_name=\"MyColletion\"\n",
    ")\n"
   ]
  }
 ],
 "metadata": {
  "kernelspec": {
   "display_name": "Python 3",
   "language": "python",
   "name": "python3"
  },
  "language_info": {
   "codemirror_mode": {
    "name": "ipython",
    "version": 3
   },
   "file_extension": ".py",
   "mimetype": "text/x-python",
   "name": "python",
   "nbconvert_exporter": "python",
   "pygments_lexer": "ipython3",
   "version": "3.13.1"
  }
 },
 "nbformat": 4,
 "nbformat_minor": 5
}
