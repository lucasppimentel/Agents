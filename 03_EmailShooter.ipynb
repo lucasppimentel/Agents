{
 "cells": [
  {
   "cell_type": "code",
   "execution_count": 1,
   "id": "42f7304b",
   "metadata": {},
   "outputs": [],
   "source": [
    "import os\n",
    "\n",
    "from utils import format_email_body, load_news, send_email"
   ]
  },
  {
   "cell_type": "code",
   "execution_count": null,
   "id": "ea928f29",
   "metadata": {},
   "outputs": [],
   "source": [
    "recipientes = [] #, Lista de recipientes\n",
    "assunto = \"📰 Dose diária de AI Slop\""
   ]
  },
  {
   "cell_type": "code",
   "execution_count": 3,
   "id": "6e12d115",
   "metadata": {},
   "outputs": [],
   "source": [
    "df_summaries = load_news()\n",
    "html = format_email_body(df_summaries.loc[(df_summaries[\"relevancia\"]==\"Relevante\") & (df_summaries[\"impacto\"].isin([\"Positivo\", \"Negativo\"]))])"
   ]
  },
  {
   "cell_type": "code",
   "execution_count": 5,
   "id": "74e0b07c",
   "metadata": {},
   "outputs": [
    {
     "name": "stdout",
     "output_type": "stream",
     "text": [
      "Disparo bem sucedido.\n"
     ]
    }
   ],
   "source": [
    "# Disparo do email\n",
    "send_email(assunto, html, os.environ[\"EMAIL_SENDER\"], os.environ[\"EMAIL_KEY\"], recipientes)"
   ]
  }
 ],
 "metadata": {
  "kernelspec": {
   "display_name": "Python 3",
   "language": "python",
   "name": "python3"
  },
  "language_info": {
   "codemirror_mode": {
    "name": "ipython",
    "version": 3
   },
   "file_extension": ".py",
   "mimetype": "text/x-python",
   "name": "python",
   "nbconvert_exporter": "python",
   "pygments_lexer": "ipython3",
   "version": "3.13.1"
  }
 },
 "nbformat": 4,
 "nbformat_minor": 5
}
